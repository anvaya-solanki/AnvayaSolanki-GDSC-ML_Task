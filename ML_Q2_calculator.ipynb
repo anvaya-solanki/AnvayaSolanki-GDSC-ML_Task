{
  "nbformat": 4,
  "nbformat_minor": 0,
  "metadata": {
    "colab": {
      "provenance": []
    },
    "kernelspec": {
      "name": "python3",
      "display_name": "Python 3"
    },
    "language_info": {
      "name": "python"
    }
  },
  "cells": [
    {
      "cell_type": "code",
      "execution_count": 5,
      "metadata": {
        "id": "xm2QhG9FMTGZ"
      },
      "outputs": [],
      "source": [
        "def calculate_exp(expression):\n",
        "    try:\n",
        "        result = eval(expression)\n",
        "        return result\n",
        "    except ZeroDivisionError:\n",
        "        return \"Division by zero is not allowed.\"\n",
        "    except Exception as e:\n",
        "        return f\"An error occurred: {str(e)}\"\n",
        "    return calculate_exp(expression)"
      ]
    },
    {
      "cell_type": "code",
      "source": [
        "calculate_exp(\"9*51/4-5\")"
      ],
      "metadata": {
        "colab": {
          "base_uri": "https://localhost:8080/"
        },
        "id": "ja1vQpaZyEJ4",
        "outputId": "cb634b98-b073-41a3-971e-3945beb6db40"
      },
      "execution_count": 6,
      "outputs": [
        {
          "output_type": "execute_result",
          "data": {
            "text/plain": [
              "109.75"
            ]
          },
          "metadata": {},
          "execution_count": 6
        }
      ]
    }
  ]
}