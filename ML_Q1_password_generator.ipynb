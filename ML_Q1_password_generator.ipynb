{
  "nbformat": 4,
  "nbformat_minor": 0,
  "metadata": {
    "colab": {
      "provenance": []
    },
    "kernelspec": {
      "name": "python3",
      "display_name": "Python 3"
    },
    "language_info": {
      "name": "python"
    }
  },
  "cells": [
    {
      "cell_type": "code",
      "execution_count": 1,
      "metadata": {
        "colab": {
          "base_uri": "https://localhost:8080/"
        },
        "id": "xm2QhG9FMTGZ",
        "outputId": "547ddc3c-2da7-4a5f-a84c-35c1989fe0d0"
      },
      "outputs": [
        {
          "output_type": "stream",
          "name": "stdout",
          "text": [
            "Enter your desired password length: 8\n",
            "Do you wish to include uppercase letters (yes/no)? No\n",
            "Do you wish to include digits (yes/no)? yes\n",
            "Do you wish to include special characters (yes/no)? YES\n",
            "Generated Password: 6y0_+aq|\n"
          ]
        }
      ],
      "source": [
        "import random\n",
        "import string\n",
        "\n",
        "def password_generator(length=12, use_upper=True, use_digits=True, use_special=True):\n",
        "    lowercase = string.ascii_lowercase\n",
        "    uppercase = string.ascii_uppercase if use_upper else \"\"\n",
        "    digits = string.digits if use_digits else \"\"\n",
        "    special_chars = \"!@#$%^&*()_+[]{}|;:,.<>?/~\" if use_special else \"\"\n",
        "    all_chars = lowercase + uppercase + digits + special_chars\n",
        "    password = ''.join(random.choice(all_chars) for _ in range(length))\n",
        "    return password\n",
        "\n",
        "\n",
        "length = int(input(\"Enter your desired password length: \"))\n",
        "use_upper = input(\"Do you wish to include uppercase letters (yes/no)? \").lower() == \"yes\"\n",
        "use_digits = input(\"Do you wish to include digits (yes/no)? \").lower() == \"yes\"\n",
        "use_special = input(\"Do you wish to include special characters (yes/no)? \").lower() == \"yes\"\n",
        "\n",
        "password = password_generator(length, use_upper, use_digits, use_special)\n",
        "print(\"Generated Password:\", password)"
      ]
    }
  ]
}